{
  "nbformat": 4,
  "nbformat_minor": 0,
  "metadata": {
    "colab": {
      "provenance": []
    },
    "kernelspec": {
      "name": "python3",
      "display_name": "Python 3"
    },
    "language_info": {
      "name": "python"
    }
  },
  "cells": [
    {
      "cell_type": "markdown",
      "source": [
        "**Exportando banco de dados**"
      ],
      "metadata": {
        "id": "rMCFe9zLGnJL"
      }
    },
    {
      "cell_type": "code",
      "source": [
        "import pandas as pd\n",
        "import numpy as np"
      ],
      "metadata": {
        "id": "Wa53OfCCN1tZ"
      },
      "execution_count": 15,
      "outputs": []
    },
    {
      "cell_type": "code",
      "source": [
        "\n",
        "##Exportando os valores de exportação\n",
        "\n",
        "dados_2007= pd.read_html('http://vitibrasil.cnpuv.embrapa.br/index.php?ano=2007&opcao=opt_06&subopcao=subopt_01',encoding='UTF-8' )\n",
        "dados_2008= pd.read_html('http://vitibrasil.cnpuv.embrapa.br/index.php?ano=2008&opcao=opt_06&subopcao=subopt_01',encoding='UTF-8' )\n",
        "dados_2009= pd.read_html('http://vitibrasil.cnpuv.embrapa.br/index.php?ano=2009&opcao=opt_06&subopcao=subopt_01',encoding='UTF-8' )\n",
        "dados_2010= pd.read_html('http://vitibrasil.cnpuv.embrapa.br/index.php?ano=2010&opcao=opt_06&subopcao=subopt_01',encoding='UTF-8' )\n",
        "dados_2011= pd.read_html('http://vitibrasil.cnpuv.embrapa.br/index.php?ano=2011&opcao=opt_06&subopcao=subopt_01',encoding='UTF-8' )\n",
        "dados_2012= pd.read_html('http://vitibrasil.cnpuv.embrapa.br/index.php?ano=2012&opcao=opt_06&subopcao=subopt_01',encoding='UTF-8' )\n",
        "dados_2013= pd.read_html('http://vitibrasil.cnpuv.embrapa.br/index.php?ano=2013&opcao=opt_06&subopcao=subopt_01',encoding='UTF-8' )\n",
        "dados_2014= pd.read_html('http://vitibrasil.cnpuv.embrapa.br/index.php?ano=2014&opcao=opt_06&subopcao=subopt_01',encoding='UTF-8' )\n",
        "dados_2015= pd.read_html('http://vitibrasil.cnpuv.embrapa.br/index.php?ano=2015&opcao=opt_06&subopcao=subopt_01',encoding='UTF-8' )\n",
        "dados_2016= pd.read_html('http://vitibrasil.cnpuv.embrapa.br/index.php?ano=2016&opcao=opt_06&subopcao=subopt_01',encoding='UTF-8' )\n",
        "dados_2017= pd.read_html('http://vitibrasil.cnpuv.embrapa.br/index.php?ano=2017&opcao=opt_06&subopcao=subopt_01',encoding='UTF-8' )\n",
        "dados_2018= pd.read_html('http://vitibrasil.cnpuv.embrapa.br/index.php?ano=2018&opcao=opt_06&subopcao=subopt_01',encoding='UTF-8' )\n",
        "dados_2019= pd.read_html('http://vitibrasil.cnpuv.embrapa.br/index.php?ano=2019&opcao=opt_06&subopcao=subopt_01',encoding='UTF-8' )\n",
        "dados_2020= pd.read_html('http://vitibrasil.cnpuv.embrapa.br/index.php?ano=2020&opcao=opt_06&subopcao=subopt_01',encoding='UTF-8' )\n",
        "dados_2021= pd.read_html('http://vitibrasil.cnpuv.embrapa.br/index.php?ano=2021&opcao=opt_06&subopcao=subopt_01',encoding='UTF-8' )\n",
        "\n"
      ],
      "metadata": {
        "id": "nfm7jRzaGth_"
      },
      "execution_count": 6,
      "outputs": []
    },
    {
      "cell_type": "code",
      "source": [
        "# Passando os valores extaídos para csv:\n",
        "\n",
        "dados_2007 = dados_2007[5]\n",
        "dados_2007.to_csv('dados_2007.csv', index=False)\n",
        "\n",
        "dados_2008 = dados_2008[5]\n",
        "dados_2008.to_csv('dados_2008.csv', index=False)\n",
        "\n",
        "dados_2009 = dados_2009[5]\n",
        "dados_2009.to_csv('dados_2009.csv', index=False)\n",
        "\n",
        "dados_2010 = dados_2010[5]\n",
        "dados_2010.to_csv('dados_2010.csv', index=False)\n",
        "\n",
        "dados_2011 = dados_2011[5]\n",
        "dados_2011.to_csv('dados_2011.csv', index=False)\n",
        "\n",
        "dados_2012 = dados_2012[5]\n",
        "dados_2012.to_csv('dados_2012.csv', index=False)\n",
        "\n",
        "dados_2013 = dados_2013[5]\n",
        "dados_2013.to_csv('dados_2013.csv', index=False)\n",
        "\n",
        "dados_2014 = dados_2014[5]\n",
        "dados_2014.to_csv('dados_2014.csv', index=False)\n",
        "\n",
        "dados_2015 = dados_2015[5]\n",
        "dados_2015.to_csv('dados_2015.csv', index=False)\n",
        "\n",
        "dados_2016 = dados_2016[5]\n",
        "dados_2016.to_csv('dados_2016.csv', index=False)\n",
        "\n",
        "dados_2017 = dados_2017[5]\n",
        "dados_2017.to_csv('dados_2017.csv', index=False)\n",
        "\n",
        "dados_2018 = dados_2018[5]\n",
        "dados_2018.to_csv('dados_2018.csv', index=False)\n",
        "\n",
        "dados_2019 = dados_2019[5]\n",
        "dados_2019.to_csv('dados_2019.csv', index=False)\n",
        "\n",
        "dados_2020 = dados_2020[5]\n",
        "dados_2020.to_csv('dados_2020.csv', index=False)\n",
        "\n",
        "dados_2021 = dados_2021[5]\n",
        "dados_2021.to_csv('dados_2021.csv', index=False)\n"
      ],
      "metadata": {
        "id": "vWSDPBuvNvWW"
      },
      "execution_count": 7,
      "outputs": []
    },
    {
      "cell_type": "code",
      "source": [
        "# Agrupando todos os arquivos de exportação\n",
        "\n",
        "dados_exportacao=[dados_2007,\n",
        "                  dados_2008,\n",
        "                  dados_2009,\n",
        "                  dados_2010,\n",
        "                  dados_2011,\n",
        "                  dados_2012,\n",
        "                  dados_2013,\n",
        "                  dados_2014,\n",
        "                  dados_2015,\n",
        "                  dados_2016,\n",
        "                  dados_2017,\n",
        "                  dados_2018,\n",
        "                  dados_2019,\n",
        "                  dados_2020,\n",
        "                  dados_2021]"
      ],
      "metadata": {
        "id": "CbAZmf4JPc9C"
      },
      "execution_count": 8,
      "outputs": []
    },
    {
      "cell_type": "code",
      "source": [
        "#Concatenando a lista\n",
        "dados_exportacao= pd.concat(dados_exportacao)\n",
        "\n",
        "#Removendo e substituindo caracteres e pontos para converter tipos de dados das colunas\n",
        "\n",
        "dados_exportacao[\"Quantidade (Kg)\"] = dados_exportacao[\"Quantidade (Kg)\"].str.replace('.','').replace('-', '0')\n",
        "dados_exportacao[\"Valor (US$)\"] = dados_exportacao[\"Valor (US$)\"].str.replace('.','').replace('-', '0')\n",
        "\n",
        "#Alterando os tipos das colunas\n",
        "\n",
        "dados_exportacao[\"Quantidade (Kg)\"] = pd.to_numeric(dados_exportacao[\"Quantidade (Kg)\"], downcast=\"integer\")\n",
        "dados_exportacao[\"Valor (US$)\"] = pd.to_numeric(dados_exportacao[\"Valor (US$)\"], downcast=\"float\")\n",
        "\n",
        "#Agregando as colunas\n",
        "\n",
        "dados_exportacao = dados_exportacao.groupby(['Países']).agg({'Quantidade (Kg)':'sum','Valor (US$)':'sum' })\n",
        "\n",
        "#Resetando index\n",
        "\n",
        "dados_exportacao= dados_exportacao.reset_index()\n",
        "\n",
        "#Renomeando coluna\n",
        "\n",
        "dados_exportacao = dados_exportacao.rename(columns={'Países':\"País destino\"})\n",
        "\n",
        "#Inserindo coluna País origem (Brasil)\n",
        "\n",
        "dados_exportacao.insert(0, \"País origem\", \"Brasil\")\n",
        "\n",
        "#Renomeando alguns nomes de paises, para ficar mais aprestável (ex.:País Alemanha, República Democrática para Alemanha)\n",
        "dados_exportacao[\"País destino\"] = dados_exportacao[\"País destino\"].replace('Alemanha, República Democrática','Alemanha')\n",
        "dados_exportacao[\"País destino\"] = dados_exportacao[\"País destino\"].replace('Tcheca, República','República Tcheca')\n",
        "dados_exportacao[\"País destino\"] = dados_exportacao[\"País destino\"].replace('Taiwan (FORMOSA)','Taiwan')\n",
        "dados_exportacao[\"País destino\"] = dados_exportacao[\"País destino\"].replace('Marshall, Ilhas','Ilhas Marshall')\n",
        "dados_exportacao[\"País destino\"] = dados_exportacao[\"País destino\"].replace('Coreia, Republica Sul', 'Coréia do Sul')\n",
        "dados_exportacao[\"País destino\"] = dados_exportacao[\"País destino\"].replace('Cayman, Ilhas', 'Ilhas Cayman')\n",
        "dados_exportacao[\"País destino\"] = dados_exportacao[\"País destino\"].replace('Eslovaca, Republica', 'Eslováquia')\n"
      ],
      "metadata": {
        "colab": {
          "base_uri": "https://localhost:8080/"
        },
        "id": "6wT5MmzMW03v",
        "outputId": "13bd2638-7042-4c4f-bc4a-9e6825b65ad4"
      },
      "execution_count": 9,
      "outputs": [
        {
          "output_type": "stream",
          "name": "stderr",
          "text": [
            "<ipython-input-9-8214ceccacc5>:6: FutureWarning: The default value of regex will change from True to False in a future version. In addition, single character regular expressions will *not* be treated as literal strings when regex=True.\n",
            "  dados_exportacao[\"Quantidade (Kg)\"] = dados_exportacao[\"Quantidade (Kg)\"].str.replace('.','').replace('-', '0')\n",
            "<ipython-input-9-8214ceccacc5>:7: FutureWarning: The default value of regex will change from True to False in a future version. In addition, single character regular expressions will *not* be treated as literal strings when regex=True.\n",
            "  dados_exportacao[\"Valor (US$)\"] = dados_exportacao[\"Valor (US$)\"].str.replace('.','').replace('-', '0')\n"
          ]
        }
      ]
    },
    {
      "cell_type": "code",
      "source": [
        "dados_exportacao"
      ],
      "metadata": {
        "colab": {
          "base_uri": "https://localhost:8080/",
          "height": 423
        },
        "id": "UYnsgg2xtRbg",
        "outputId": "79f03057-6770-4572-fbe5-86608e06bd60"
      },
      "execution_count": 10,
      "outputs": [
        {
          "output_type": "execute_result",
          "data": {
            "text/plain": [
              "    País origem         País destino  Quantidade (Kg)  Valor (US$)\n",
              "0        Brasil          Afeganistão               11         46.0\n",
              "1        Brasil             Alemanha          1020933    2739079.0\n",
              "2        Brasil               Angola           190731     621181.0\n",
              "3        Brasil             Anguilla                0          0.0\n",
              "4        Brasil  Antilhas Holandesas           114027     160864.0\n",
              "..          ...                  ...              ...          ...\n",
              "120      Brasil              Vanuatu               18         31.0\n",
              "121      Brasil            Venezuela            52995      83847.0\n",
              "122      Brasil               Vietnã             9669      12736.0\n",
              "123      Brasil        África do Sul               30        116.0\n",
              "124      Brasil              Áustria              675       5220.0\n",
              "\n",
              "[125 rows x 4 columns]"
            ],
            "text/html": [
              "\n",
              "  <div id=\"df-335a5232-bbd7-4450-82b7-b11d72d0f251\">\n",
              "    <div class=\"colab-df-container\">\n",
              "      <div>\n",
              "<style scoped>\n",
              "    .dataframe tbody tr th:only-of-type {\n",
              "        vertical-align: middle;\n",
              "    }\n",
              "\n",
              "    .dataframe tbody tr th {\n",
              "        vertical-align: top;\n",
              "    }\n",
              "\n",
              "    .dataframe thead th {\n",
              "        text-align: right;\n",
              "    }\n",
              "</style>\n",
              "<table border=\"1\" class=\"dataframe\">\n",
              "  <thead>\n",
              "    <tr style=\"text-align: right;\">\n",
              "      <th></th>\n",
              "      <th>País origem</th>\n",
              "      <th>País destino</th>\n",
              "      <th>Quantidade (Kg)</th>\n",
              "      <th>Valor (US$)</th>\n",
              "    </tr>\n",
              "  </thead>\n",
              "  <tbody>\n",
              "    <tr>\n",
              "      <th>0</th>\n",
              "      <td>Brasil</td>\n",
              "      <td>Afeganistão</td>\n",
              "      <td>11</td>\n",
              "      <td>46.0</td>\n",
              "    </tr>\n",
              "    <tr>\n",
              "      <th>1</th>\n",
              "      <td>Brasil</td>\n",
              "      <td>Alemanha</td>\n",
              "      <td>1020933</td>\n",
              "      <td>2739079.0</td>\n",
              "    </tr>\n",
              "    <tr>\n",
              "      <th>2</th>\n",
              "      <td>Brasil</td>\n",
              "      <td>Angola</td>\n",
              "      <td>190731</td>\n",
              "      <td>621181.0</td>\n",
              "    </tr>\n",
              "    <tr>\n",
              "      <th>3</th>\n",
              "      <td>Brasil</td>\n",
              "      <td>Anguilla</td>\n",
              "      <td>0</td>\n",
              "      <td>0.0</td>\n",
              "    </tr>\n",
              "    <tr>\n",
              "      <th>4</th>\n",
              "      <td>Brasil</td>\n",
              "      <td>Antilhas Holandesas</td>\n",
              "      <td>114027</td>\n",
              "      <td>160864.0</td>\n",
              "    </tr>\n",
              "    <tr>\n",
              "      <th>...</th>\n",
              "      <td>...</td>\n",
              "      <td>...</td>\n",
              "      <td>...</td>\n",
              "      <td>...</td>\n",
              "    </tr>\n",
              "    <tr>\n",
              "      <th>120</th>\n",
              "      <td>Brasil</td>\n",
              "      <td>Vanuatu</td>\n",
              "      <td>18</td>\n",
              "      <td>31.0</td>\n",
              "    </tr>\n",
              "    <tr>\n",
              "      <th>121</th>\n",
              "      <td>Brasil</td>\n",
              "      <td>Venezuela</td>\n",
              "      <td>52995</td>\n",
              "      <td>83847.0</td>\n",
              "    </tr>\n",
              "    <tr>\n",
              "      <th>122</th>\n",
              "      <td>Brasil</td>\n",
              "      <td>Vietnã</td>\n",
              "      <td>9669</td>\n",
              "      <td>12736.0</td>\n",
              "    </tr>\n",
              "    <tr>\n",
              "      <th>123</th>\n",
              "      <td>Brasil</td>\n",
              "      <td>África do Sul</td>\n",
              "      <td>30</td>\n",
              "      <td>116.0</td>\n",
              "    </tr>\n",
              "    <tr>\n",
              "      <th>124</th>\n",
              "      <td>Brasil</td>\n",
              "      <td>Áustria</td>\n",
              "      <td>675</td>\n",
              "      <td>5220.0</td>\n",
              "    </tr>\n",
              "  </tbody>\n",
              "</table>\n",
              "<p>125 rows × 4 columns</p>\n",
              "</div>\n",
              "      <button class=\"colab-df-convert\" onclick=\"convertToInteractive('df-335a5232-bbd7-4450-82b7-b11d72d0f251')\"\n",
              "              title=\"Convert this dataframe to an interactive table.\"\n",
              "              style=\"display:none;\">\n",
              "        \n",
              "  <svg xmlns=\"http://www.w3.org/2000/svg\" height=\"24px\"viewBox=\"0 0 24 24\"\n",
              "       width=\"24px\">\n",
              "    <path d=\"M0 0h24v24H0V0z\" fill=\"none\"/>\n",
              "    <path d=\"M18.56 5.44l.94 2.06.94-2.06 2.06-.94-2.06-.94-.94-2.06-.94 2.06-2.06.94zm-11 1L8.5 8.5l.94-2.06 2.06-.94-2.06-.94L8.5 2.5l-.94 2.06-2.06.94zm10 10l.94 2.06.94-2.06 2.06-.94-2.06-.94-.94-2.06-.94 2.06-2.06.94z\"/><path d=\"M17.41 7.96l-1.37-1.37c-.4-.4-.92-.59-1.43-.59-.52 0-1.04.2-1.43.59L10.3 9.45l-7.72 7.72c-.78.78-.78 2.05 0 2.83L4 21.41c.39.39.9.59 1.41.59.51 0 1.02-.2 1.41-.59l7.78-7.78 2.81-2.81c.8-.78.8-2.07 0-2.86zM5.41 20L4 18.59l7.72-7.72 1.47 1.35L5.41 20z\"/>\n",
              "  </svg>\n",
              "      </button>\n",
              "      \n",
              "  <style>\n",
              "    .colab-df-container {\n",
              "      display:flex;\n",
              "      flex-wrap:wrap;\n",
              "      gap: 12px;\n",
              "    }\n",
              "\n",
              "    .colab-df-convert {\n",
              "      background-color: #E8F0FE;\n",
              "      border: none;\n",
              "      border-radius: 50%;\n",
              "      cursor: pointer;\n",
              "      display: none;\n",
              "      fill: #1967D2;\n",
              "      height: 32px;\n",
              "      padding: 0 0 0 0;\n",
              "      width: 32px;\n",
              "    }\n",
              "\n",
              "    .colab-df-convert:hover {\n",
              "      background-color: #E2EBFA;\n",
              "      box-shadow: 0px 1px 2px rgba(60, 64, 67, 0.3), 0px 1px 3px 1px rgba(60, 64, 67, 0.15);\n",
              "      fill: #174EA6;\n",
              "    }\n",
              "\n",
              "    [theme=dark] .colab-df-convert {\n",
              "      background-color: #3B4455;\n",
              "      fill: #D2E3FC;\n",
              "    }\n",
              "\n",
              "    [theme=dark] .colab-df-convert:hover {\n",
              "      background-color: #434B5C;\n",
              "      box-shadow: 0px 1px 3px 1px rgba(0, 0, 0, 0.15);\n",
              "      filter: drop-shadow(0px 1px 2px rgba(0, 0, 0, 0.3));\n",
              "      fill: #FFFFFF;\n",
              "    }\n",
              "  </style>\n",
              "\n",
              "      <script>\n",
              "        const buttonEl =\n",
              "          document.querySelector('#df-335a5232-bbd7-4450-82b7-b11d72d0f251 button.colab-df-convert');\n",
              "        buttonEl.style.display =\n",
              "          google.colab.kernel.accessAllowed ? 'block' : 'none';\n",
              "\n",
              "        async function convertToInteractive(key) {\n",
              "          const element = document.querySelector('#df-335a5232-bbd7-4450-82b7-b11d72d0f251');\n",
              "          const dataTable =\n",
              "            await google.colab.kernel.invokeFunction('convertToInteractive',\n",
              "                                                     [key], {});\n",
              "          if (!dataTable) return;\n",
              "\n",
              "          const docLinkHtml = 'Like what you see? Visit the ' +\n",
              "            '<a target=\"_blank\" href=https://colab.research.google.com/notebooks/data_table.ipynb>data table notebook</a>'\n",
              "            + ' to learn more about interactive tables.';\n",
              "          element.innerHTML = '';\n",
              "          dataTable['output_type'] = 'display_data';\n",
              "          await google.colab.output.renderOutput(dataTable, element);\n",
              "          const docLink = document.createElement('div');\n",
              "          docLink.innerHTML = docLinkHtml;\n",
              "          element.appendChild(docLink);\n",
              "        }\n",
              "      </script>\n",
              "    </div>\n",
              "  </div>\n",
              "  "
            ]
          },
          "metadata": {},
          "execution_count": 10
        }
      ]
    },
    {
      "cell_type": "markdown",
      "source": [],
      "metadata": {
        "id": "3dhjnh-vqjrv"
      }
    },
    {
      "cell_type": "code",
      "source": [
        "# 1º gráfico - mostrar quais os países mais consomem do brasil (mais importaram em quantidade e que a gente mais exportou em valor)\n",
        "\n",
        "# gráfico de barra\n",
        "# Rafael"
      ],
      "metadata": {
        "id": "zKqR5_58qnA3"
      },
      "execution_count": 11,
      "outputs": []
    },
    {
      "cell_type": "code",
      "source": [
        "# 2º gráfico - mostrar o cenário atual (2021) atual e o comportamento ao longo dos 15 anos também - 3 cortes: 2007, 2021, 2015, 2025 (previsão do futuro - bônus talvez)\n",
        "\n",
        "# gráfico de linha (?)\n",
        "# Fernanda"
      ],
      "metadata": {
        "id": "KUVVuqPZuhSy"
      },
      "execution_count": 25,
      "outputs": []
    },
    {
      "cell_type": "code",
      "source": [
        "# 3º gráfico - nível de consumo alcóolico por país - tendência de importação maior ou menor\n",
        "\n",
        "# dica: https://www.economist.com/blogs/dailychart/2011/02/daily_chart_global_alcohol_consumption?ppccampaignID=&ppcadID=&ppcgclID=&ppccampaignID=&ppcadID=&ppcgclID=&utm_medium=cpc.adword.pd&utm_source=google&ppccampaignID=19495686130&ppcadID=&utm_campaign=a.22brand_pmax&utm_content=conversion.direct-response.anonymous&gclid=CjwKCAjws7WkBhBFEiwAIi1680PnY_RJh_E8rwXb-rLL8mwZD_VbxrepF5s0N0BSIM4lq5R9548s4xoCAjQQAvD_BwE&gclsrc=aw.ds\n",
        "# dica: https://ourworldindata.org/alcohol-consumption\n",
        "# dica: https://apps.who.int/gho/data/node.sdg.3-5-viz?lang=en\n",
        "# Roger"
      ],
      "metadata": {
        "id": "PkqzJh4kw_wF"
      },
      "execution_count": 24,
      "outputs": []
    },
    {
      "cell_type": "code",
      "source": [
        "# 3º gráfico - mostrar gráfico de mapa de calor mundial\n",
        "\n",
        "# dica: usar https://scannerdabolsa.com.br/mapa-mundi-das-bolsas-mundiais-em-python/\n",
        "# Erica"
      ],
      "metadata": {
        "id": "qL9E_3lOuSuV"
      },
      "execution_count": 19,
      "outputs": []
    },
    {
      "cell_type": "markdown",
      "source": [],
      "metadata": {
        "id": "7_qhsxQFuXq4"
      }
    }
  ]
}