{
  "cells": [
    {
      "cell_type": "markdown",
      "metadata": {
        "id": "view-in-github",
        "colab_type": "text"
      },
      "source": [
        "<a href=\"https://colab.research.google.com/github/fegastal/PosTech-DataAnalytics_TechChallenge/blob/main/PNAD_Covid19_RM_V01.ipynb\" target=\"_parent\"><img src=\"https://colab.research.google.com/assets/colab-badge.svg\" alt=\"Open In Colab\"/></a>"
      ]
    },
    {
      "cell_type": "code",
      "execution_count": null,
      "metadata": {
        "colab": {
          "base_uri": "https://localhost:8080/"
        },
        "id": "FSRssUPDM-32",
        "outputId": "d537619d-dd77-42d7-c59d-0e61a7d12e0c"
      },
      "outputs": [
        {
          "name": "stdout",
          "output_type": "stream",
          "text": [
            "Requirement already satisfied: pyspark in /usr/local/lib/python3.10/dist-packages (3.5.0)\n",
            "Requirement already satisfied: py4j==0.10.9.7 in /usr/local/lib/python3.10/dist-packages (from pyspark) (0.10.9.7)\n"
          ]
        }
      ],
      "source": [
        "!pip install pyspark"
      ]
    },
    {
      "cell_type": "code",
      "execution_count": null,
      "metadata": {
        "colab": {
          "background_save": true,
          "base_uri": "https://localhost:8080/"
        },
        "id": "s-_8IsTFMovv",
        "outputId": "48f769d5-379b-4460-ea69-aa1eca1ea404"
      },
      "outputs": [
        {
          "name": "stdout",
          "output_type": "stream",
          "text": [
            "Requirement already satisfied: pandas in /usr/local/lib/python3.10/dist-packages (1.5.3)\n",
            "Requirement already satisfied: python-dateutil>=2.8.1 in /usr/local/lib/python3.10/dist-packages (from pandas) (2.8.2)\n",
            "Requirement already satisfied: pytz>=2020.1 in /usr/local/lib/python3.10/dist-packages (from pandas) (2023.3.post1)\n",
            "Requirement already satisfied: numpy>=1.21.0 in /usr/local/lib/python3.10/dist-packages (from pandas) (1.23.5)\n",
            "Requirement already satisfied: six>=1.5 in /usr/local/lib/python3.10/dist-packages (from python-dateutil>=2.8.1->pandas) (1.16.0)\n",
            "Requirement already satisfied: numpy in /usr/local/lib/python3.10/dist-packages (1.23.5)\n",
            "Requirement already satisfied: matplotlib in /usr/local/lib/python3.10/dist-packages (3.7.1)\n",
            "Requirement already satisfied: contourpy>=1.0.1 in /usr/local/lib/python3.10/dist-packages (from matplotlib) (1.1.1)\n",
            "Requirement already satisfied: cycler>=0.10 in /usr/local/lib/python3.10/dist-packages (from matplotlib) (0.12.1)\n",
            "Requirement already satisfied: fonttools>=4.22.0 in /usr/local/lib/python3.10/dist-packages (from matplotlib) (4.43.1)\n",
            "Requirement already satisfied: kiwisolver>=1.0.1 in /usr/local/lib/python3.10/dist-packages (from matplotlib) (1.4.5)\n",
            "Requirement already satisfied: numpy>=1.20 in /usr/local/lib/python3.10/dist-packages (from matplotlib) (1.23.5)\n",
            "Requirement already satisfied: packaging>=20.0 in /usr/local/lib/python3.10/dist-packages (from matplotlib) (23.2)\n",
            "Requirement already satisfied: pillow>=6.2.0 in /usr/local/lib/python3.10/dist-packages (from matplotlib) (9.4.0)\n",
            "Requirement already satisfied: pyparsing>=2.3.1 in /usr/local/lib/python3.10/dist-packages (from matplotlib) (3.1.1)\n",
            "Requirement already satisfied: python-dateutil>=2.7 in /usr/local/lib/python3.10/dist-packages (from matplotlib) (2.8.2)\n",
            "Requirement already satisfied: six>=1.5 in /usr/local/lib/python3.10/dist-packages (from python-dateutil>=2.7->matplotlib) (1.16.0)\n",
            "Requirement already satisfied: seaborn in /usr/local/lib/python3.10/dist-packages (0.12.2)\n",
            "Requirement already satisfied: numpy!=1.24.0,>=1.17 in /usr/local/lib/python3.10/dist-packages (from seaborn) (1.23.5)\n",
            "Requirement already satisfied: pandas>=0.25 in /usr/local/lib/python3.10/dist-packages (from seaborn) (1.5.3)\n",
            "Requirement already satisfied: matplotlib!=3.6.1,>=3.1 in /usr/local/lib/python3.10/dist-packages (from seaborn) (3.7.1)\n",
            "Requirement already satisfied: contourpy>=1.0.1 in /usr/local/lib/python3.10/dist-packages (from matplotlib!=3.6.1,>=3.1->seaborn) (1.1.1)\n",
            "Requirement already satisfied: cycler>=0.10 in /usr/local/lib/python3.10/dist-packages (from matplotlib!=3.6.1,>=3.1->seaborn) (0.12.1)\n",
            "Requirement already satisfied: fonttools>=4.22.0 in /usr/local/lib/python3.10/dist-packages (from matplotlib!=3.6.1,>=3.1->seaborn) (4.43.1)\n",
            "Requirement already satisfied: kiwisolver>=1.0.1 in /usr/local/lib/python3.10/dist-packages (from matplotlib!=3.6.1,>=3.1->seaborn) (1.4.5)\n",
            "Requirement already satisfied: packaging>=20.0 in /usr/local/lib/python3.10/dist-packages (from matplotlib!=3.6.1,>=3.1->seaborn) (23.2)\n",
            "Requirement already satisfied: pillow>=6.2.0 in /usr/local/lib/python3.10/dist-packages (from matplotlib!=3.6.1,>=3.1->seaborn) (9.4.0)\n",
            "Requirement already satisfied: pyparsing>=2.3.1 in /usr/local/lib/python3.10/dist-packages (from matplotlib!=3.6.1,>=3.1->seaborn) (3.1.1)\n",
            "Requirement already satisfied: python-dateutil>=2.7 in /usr/local/lib/python3.10/dist-packages (from matplotlib!=3.6.1,>=3.1->seaborn) (2.8.2)\n",
            "Requirement already satisfied: pytz>=2020.1 in /usr/local/lib/python3.10/dist-packages (from pandas>=0.25->seaborn) (2023.3.post1)\n",
            "Requirement already satisfied: six>=1.5 in /usr/local/lib/python3.10/dist-packages (from python-dateutil>=2.7->matplotlib!=3.6.1,>=3.1->seaborn) (1.16.0)\n",
            "Requirement already satisfied: basedosdados in /usr/local/lib/python3.10/dist-packages (1.6.11)\n",
            "Requirement already satisfied: Jinja2==3.0.3 in /usr/local/lib/python3.10/dist-packages (from basedosdados) (3.0.3)\n",
            "Requirement already satisfied: ckanapi==4.6 in /usr/local/lib/python3.10/dist-packages (from basedosdados) (4.6)\n",
            "Requirement already satisfied: click==8.0.3 in /usr/local/lib/python3.10/dist-packages (from basedosdados) (8.0.3)\n",
            "Requirement already satisfied: google-cloud-bigquery==2.30.1 in /usr/local/lib/python3.10/dist-packages (from basedosdados) (2.30.1)\n",
            "Requirement already satisfied: google-cloud-bigquery-storage==1.1.0 in /usr/local/lib/python3.10/dist-packages (from basedosdados) (1.1.0)\n",
            "Requirement already satisfied: google-cloud-storage==1.42.3 in /usr/local/lib/python3.10/dist-packages (from basedosdados) (1.42.3)\n",
            "Requirement already satisfied: importlib-metadata<5.0.0,>=4.11.3 in /usr/local/lib/python3.10/dist-packages (from basedosdados) (4.13.0)\n",
            "Requirement already satisfied: loguru<0.7.0,>=0.6.0 in /usr/local/lib/python3.10/dist-packages (from basedosdados) (0.6.0)\n",
            "Requirement already satisfied: pandas<2.0.0,>=1.3.5 in /usr/local/lib/python3.10/dist-packages (from basedosdados) (1.5.3)\n",
            "Requirement already satisfied: pandas-gbq<0.18.0,>=0.17.4 in /usr/local/lib/python3.10/dist-packages (from basedosdados) (0.17.9)\n",
            "Requirement already satisfied: pandavro<2.0.0,>=1.6.0 in /usr/local/lib/python3.10/dist-packages (from basedosdados) (1.7.2)\n",
            "Requirement already satisfied: pyaml==20.4.0 in /usr/local/lib/python3.10/dist-packages (from basedosdados) (20.4.0)\n",
            "Requirement already satisfied: pyarrow==6.0.0 in /usr/local/lib/python3.10/dist-packages (from basedosdados) (6.0.0)\n",
            "Requirement already satisfied: ruamel.yaml==0.17.10 in /usr/local/lib/python3.10/dist-packages (from basedosdados) (0.17.10)\n",
            "Requirement already satisfied: shapely<2.0.0,>=1.6.0 in /usr/local/lib/python3.10/dist-packages (from basedosdados) (1.8.5.post1)\n",
            "Requirement already satisfied: toml<0.11.0,>=0.10.2 in /usr/local/lib/python3.10/dist-packages (from basedosdados) (0.10.2)\n",
            "Requirement already satisfied: tomlkit==0.7.0 in /usr/local/lib/python3.10/dist-packages (from basedosdados) (0.7.0)\n",
            "Requirement already satisfied: tqdm==4.50.2 in /usr/local/lib/python3.10/dist-packages (from basedosdados) (4.50.2)\n",
            "Requirement already satisfied: setuptools in /usr/local/lib/python3.10/dist-packages (from ckanapi==4.6->basedosdados) (67.7.2)\n",
            "Requirement already satisfied: docopt in /usr/local/lib/python3.10/dist-packages (from ckanapi==4.6->basedosdados) (0.6.2)\n",
            "Requirement already satisfied: requests in /usr/local/lib/python3.10/dist-packages (from ckanapi==4.6->basedosdados) (2.31.0)\n",
            "Requirement already satisfied: python-slugify>=1.0 in /usr/local/lib/python3.10/dist-packages (from ckanapi==4.6->basedosdados) (8.0.1)\n",
            "Requirement already satisfied: six<2.0,>=1.9 in /usr/local/lib/python3.10/dist-packages (from ckanapi==4.6->basedosdados) (1.16.0)\n",
            "Requirement already satisfied: grpcio<2.0dev,>=1.38.1 in /usr/local/lib/python3.10/dist-packages (from google-cloud-bigquery==2.30.1->basedosdados) (1.59.0)\n",
            "Requirement already satisfied: google-api-core[grpc]<3.0.0dev,>=1.29.0 in /usr/local/lib/python3.10/dist-packages (from google-cloud-bigquery==2.30.1->basedosdados) (1.34.0)\n",
            "Requirement already satisfied: proto-plus>=1.10.0 in /usr/local/lib/python3.10/dist-packages (from google-cloud-bigquery==2.30.1->basedosdados) (1.22.3)\n",
            "Requirement already satisfied: google-cloud-core<3.0.0dev,>=1.4.1 in /usr/local/lib/python3.10/dist-packages (from google-cloud-bigquery==2.30.1->basedosdados) (2.3.3)\n",
            "Requirement already satisfied: google-resumable-media<3.0dev,>=0.6.0 in /usr/local/lib/python3.10/dist-packages (from google-cloud-bigquery==2.30.1->basedosdados) (2.6.0)\n",
            "Requirement already satisfied: packaging>=14.3 in /usr/local/lib/python3.10/dist-packages (from google-cloud-bigquery==2.30.1->basedosdados) (23.2)\n",
            "Requirement already satisfied: protobuf>=3.12.0 in /usr/local/lib/python3.10/dist-packages (from google-cloud-bigquery==2.30.1->basedosdados) (3.20.3)\n",
            "Requirement already satisfied: python-dateutil<3.0dev,>=2.7.2 in /usr/local/lib/python3.10/dist-packages (from google-cloud-bigquery==2.30.1->basedosdados) (2.8.2)\n",
            "Requirement already satisfied: google-auth<3.0dev,>=1.25.0 in /usr/local/lib/python3.10/dist-packages (from google-cloud-storage==1.42.3->basedosdados) (2.17.3)\n",
            "Requirement already satisfied: MarkupSafe>=2.0 in /usr/local/lib/python3.10/dist-packages (from Jinja2==3.0.3->basedosdados) (2.1.3)\n",
            "Requirement already satisfied: PyYAML in /usr/local/lib/python3.10/dist-packages (from pyaml==20.4.0->basedosdados) (6.0.1)\n",
            "Requirement already satisfied: numpy>=1.16.6 in /usr/local/lib/python3.10/dist-packages (from pyarrow==6.0.0->basedosdados) (1.23.5)\n",
            "Requirement already satisfied: zipp>=0.5 in /usr/local/lib/python3.10/dist-packages (from importlib-metadata<5.0.0,>=4.11.3->basedosdados) (3.17.0)\n",
            "Requirement already satisfied: pytz>=2020.1 in /usr/local/lib/python3.10/dist-packages (from pandas<2.0.0,>=1.3.5->basedosdados) (2023.3.post1)\n",
            "Requirement already satisfied: db-dtypes<2.0.0,>=0.3.1 in /usr/local/lib/python3.10/dist-packages (from pandas-gbq<0.18.0,>=0.17.4->basedosdados) (1.1.1)\n",
            "Requirement already satisfied: pydata-google-auth in /usr/local/lib/python3.10/dist-packages (from pandas-gbq<0.18.0,>=0.17.4->basedosdados) (1.8.2)\n",
            "Requirement already satisfied: google-auth-oauthlib>=0.0.1 in /usr/local/lib/python3.10/dist-packages (from pandas-gbq<0.18.0,>=0.17.4->basedosdados) (1.0.0)\n",
            "Requirement already satisfied: fastavro~=1.5.1 in /usr/local/lib/python3.10/dist-packages (from pandavro<2.0.0,>=1.6.0->basedosdados) (1.5.4)\n",
            "Requirement already satisfied: googleapis-common-protos<2.0dev,>=1.56.2 in /usr/local/lib/python3.10/dist-packages (from google-api-core[grpc]<3.0.0dev,>=1.29.0->google-cloud-bigquery==2.30.1->basedosdados) (1.61.0)\n",
            "Requirement already satisfied: grpcio-status<2.0dev,>=1.33.2 in /usr/local/lib/python3.10/dist-packages (from google-api-core[grpc]<3.0.0dev,>=1.29.0->google-cloud-bigquery==2.30.1->basedosdados) (1.48.2)\n",
            "Requirement already satisfied: cachetools<6.0,>=2.0.0 in /usr/local/lib/python3.10/dist-packages (from google-auth<3.0dev,>=1.25.0->google-cloud-storage==1.42.3->basedosdados) (5.3.2)\n",
            "Requirement already satisfied: pyasn1-modules>=0.2.1 in /usr/local/lib/python3.10/dist-packages (from google-auth<3.0dev,>=1.25.0->google-cloud-storage==1.42.3->basedosdados) (0.3.0)\n",
            "Requirement already satisfied: rsa<5,>=3.1.4 in /usr/local/lib/python3.10/dist-packages (from google-auth<3.0dev,>=1.25.0->google-cloud-storage==1.42.3->basedosdados) (4.9)\n",
            "Requirement already satisfied: requests-oauthlib>=0.7.0 in /usr/local/lib/python3.10/dist-packages (from google-auth-oauthlib>=0.0.1->pandas-gbq<0.18.0,>=0.17.4->basedosdados) (1.3.1)\n",
            "Requirement already satisfied: google-crc32c<2.0dev,>=1.0 in /usr/local/lib/python3.10/dist-packages (from google-resumable-media<3.0dev,>=0.6.0->google-cloud-bigquery==2.30.1->basedosdados) (1.5.0)\n",
            "Requirement already satisfied: text-unidecode>=1.3 in /usr/local/lib/python3.10/dist-packages (from python-slugify>=1.0->ckanapi==4.6->basedosdados) (1.3)\n",
            "Requirement already satisfied: charset-normalizer<4,>=2 in /usr/local/lib/python3.10/dist-packages (from requests->ckanapi==4.6->basedosdados) (3.3.1)\n",
            "Requirement already satisfied: idna<4,>=2.5 in /usr/local/lib/python3.10/dist-packages (from requests->ckanapi==4.6->basedosdados) (3.4)\n",
            "Requirement already satisfied: urllib3<3,>=1.21.1 in /usr/local/lib/python3.10/dist-packages (from requests->ckanapi==4.6->basedosdados) (2.0.7)\n",
            "Requirement already satisfied: certifi>=2017.4.17 in /usr/local/lib/python3.10/dist-packages (from requests->ckanapi==4.6->basedosdados) (2023.7.22)\n",
            "Requirement already satisfied: pyasn1<0.6.0,>=0.4.6 in /usr/local/lib/python3.10/dist-packages (from pyasn1-modules>=0.2.1->google-auth<3.0dev,>=1.25.0->google-cloud-storage==1.42.3->basedosdados) (0.5.0)\n",
            "Requirement already satisfied: oauthlib>=3.0.0 in /usr/local/lib/python3.10/dist-packages (from requests-oauthlib>=0.7.0->google-auth-oauthlib>=0.0.1->pandas-gbq<0.18.0,>=0.17.4->basedosdados) (3.2.2)\n"
          ]
        }
      ],
      "source": [
        "!pip install pandas\n",
        "!pip install numpy\n",
        "!pip install matplotlib\n",
        "!pip install seaborn\n",
        "!pip install basedosdados"
      ]
    },
    {
      "cell_type": "code",
      "execution_count": null,
      "metadata": {
        "colab": {
          "background_save": true
        },
        "id": "p29aIjVbNSqn",
        "outputId": "947a4f3a-48ef-4bd5-c4e6-f35411d31069"
      },
      "outputs": [
        {
          "data": {
            "text/html": [
              "\n",
              "            <div>\n",
              "                <p><b>SparkSession - in-memory</b></p>\n",
              "                \n",
              "        <div>\n",
              "            <p><b>SparkContext</b></p>\n",
              "\n",
              "            <p><a href=\"http://feb79d0ad333:4040\">Spark UI</a></p>\n",
              "\n",
              "            <dl>\n",
              "              <dt>Version</dt>\n",
              "                <dd><code>v3.5.0</code></dd>\n",
              "              <dt>Master</dt>\n",
              "                <dd><code>local[*]</code></dd>\n",
              "              <dt>AppName</dt>\n",
              "                <dd><code>PNAD_Covic19</code></dd>\n",
              "            </dl>\n",
              "        </div>\n",
              "        \n",
              "            </div>\n",
              "        "
            ],
            "text/plain": [
              "<pyspark.sql.session.SparkSession at 0x7ca444f71ab0>"
            ]
          },
          "execution_count": 89,
          "metadata": {},
          "output_type": "execute_result"
        }
      ],
      "source": [
        "import pandas as pd\n",
        "import basedosdados as bd ## database management system for Bra# zilian public data\n",
        "import numpy as np\n",
        "import seaborn as sns\n",
        "import os\n",
        "from matplotlib import pyplot\n",
        "from pyspark.sql import SparkSession\n",
        "from pyspark.sql.types import StructType, StructField, IntegerType, FloatType, StringType\n",
        "from pyspark.sql.functions import col, expr, concat, when\n",
        "\n",
        "spark = SparkSession.builder.appName(\"PNAD_Covic19\").getOrCreate()\n",
        "spark"
      ]
    },
    {
      "cell_type": "code",
      "execution_count": null,
      "metadata": {
        "colab": {
          "background_save": true
        },
        "id": "i4Qd3i39ON6r"
      },
      "outputs": [],
      "source": [
        "# dict_basedosdados = bd.read_table(dataset_id='br_ibge_pnad_covid',\n",
        "# table_id='dicionario',\n",
        "# billing_project_id=\"basedosdados-1\")"
      ]
    },
    {
      "cell_type": "code",
      "execution_count": null,
      "metadata": {
        "colab": {
          "background_save": true
        },
        "id": "1VlqpvpBHXq5"
      },
      "outputs": [],
      "source": [
        "# base_df = bd.read_table(dataset_id='br_ibge_pnad_covid',\n",
        "#   table_id='microdados',\n",
        "#   billing_project_id=\"basedosdados-1\") \\\n",
        "#           .fillna(0)"
      ]
    },
    {
      "cell_type": "code",
      "execution_count": null,
      "metadata": {
        "colab": {
          "background_save": true
        },
        "id": "ZRp_3BHzTcEZ"
      },
      "outputs": [],
      "source": [
        "# base_df_sql = bd.read_sql(query=\"SELECT  * \\\n",
        "#                                   FROM `basedosdados.br_ibge_pnad_covid.microdados` cov_md \\\n",
        "#                                   WHERE cov_md.mes in (9,10,11)\") \\\n",
        "#                                 .fillna(0)\n"
      ]
    },
    {
      "cell_type": "code",
      "execution_count": null,
      "metadata": {
        "colab": {
          "background_save": true
        },
        "id": "6tG20cdqS-kB"
      },
      "outputs": [],
      "source": [
        "# base_df_sql"
      ]
    },
    {
      "cell_type": "code",
      "execution_count": null,
      "metadata": {
        "colab": {
          "background_save": true
        },
        "id": "LvD6iBPw2wV9"
      },
      "outputs": [],
      "source": [
        "# Set display options to show all columns and rows\n",
        "pd.set_option('display.max_columns', None)\n",
        "pd.set_option('display.max_rows', 30)"
      ]
    },
    {
      "cell_type": "code",
      "execution_count": null,
      "metadata": {
        "colab": {
          "background_save": true
        },
        "id": "jKCmpMsVg-uI"
      },
      "outputs": [],
      "source": [
        "# covid_df = spark.createDataFrame(data = base_df_sql)"
      ]
    },
    {
      "cell_type": "code",
      "execution_count": null,
      "metadata": {
        "id": "Akopaw03G239"
      },
      "outputs": [],
      "source": [
        "from google.colab import drive\n",
        "drive.mount('/content/gdrive')"
      ]
    },
    {
      "cell_type": "code",
      "execution_count": null,
      "metadata": {
        "colab": {
          "background_save": true
        },
        "id": "6TA7Q3YWDLiZ"
      },
      "outputs": [],
      "source": [
        "df = spark.read.csv('/content/gdrive/MyDrive/colab_notebooks/pnad_covid19.csv',inferSchema = True,header=True)"
      ]
    },
    {
      "cell_type": "code",
      "execution_count": null,
      "metadata": {
        "colab": {
          "background_save": true
        },
        "id": "cZif-wxT_DEG"
      },
      "outputs": [],
      "source": [
        "# covid_df.collect()"
      ]
    },
    {
      "cell_type": "code",
      "execution_count": null,
      "metadata": {
        "colab": {
          "background_save": true
        },
        "id": "n5QXLhFLLB68",
        "outputId": "94753277-3730-4632-b46a-1762caa4a2b7"
      },
      "outputs": [
        {
          "name": "stdout",
          "output_type": "stream",
          "text": [
            "root\n",
            " |-- Ano: string (nullable = true)\n",
            " |-- UF: string (nullable = true)\n",
            " |-- CAPITAL: string (nullable = true)\n",
            " |-- RM_RIDE: string (nullable = true)\n",
            " |-- V1008: string (nullable = true)\n",
            " |-- V1012: string (nullable = true)\n",
            " |-- V1013: string (nullable = true)\n",
            " |-- V1016: string (nullable = true)\n",
            " |-- Estrato: string (nullable = true)\n",
            " |-- UPA: string (nullable = true)\n",
            " |-- V1022: string (nullable = true)\n",
            " |-- V1023: string (nullable = true)\n",
            " |-- V1030: string (nullable = true)\n",
            " |-- V1031: string (nullable = true)\n",
            " |-- V1032: string (nullable = true)\n",
            " |-- posest: string (nullable = true)\n",
            " |-- A001: string (nullable = true)\n",
            " |-- A001A: string (nullable = true)\n",
            " |-- A001B1: string (nullable = true)\n",
            " |-- A001B2: string (nullable = true)\n",
            " |-- A001B3: string (nullable = true)\n",
            " |-- A002: string (nullable = true)\n",
            " |-- A003: string (nullable = true)\n",
            " |-- A004: string (nullable = true)\n",
            " |-- A005: string (nullable = true)\n",
            " |-- A006: string (nullable = true)\n",
            " |-- A007: string (nullable = true)\n",
            " |-- A008: string (nullable = true)\n",
            " |-- A009: string (nullable = true)\n",
            " |-- B0011: string (nullable = true)\n",
            " |-- B0012: string (nullable = true)\n",
            " |-- B0013: string (nullable = true)\n",
            " |-- B0014: string (nullable = true)\n",
            " |-- B0015: string (nullable = true)\n",
            " |-- B0016: string (nullable = true)\n",
            " |-- B0017: string (nullable = true)\n",
            " |-- B0018: string (nullable = true)\n",
            " |-- B0019: string (nullable = true)\n",
            " |-- B00110: string (nullable = true)\n",
            " |-- B00111: string (nullable = true)\n",
            " |-- B00112: string (nullable = true)\n",
            " |-- B00113: string (nullable = true)\n",
            " |-- B002: string (nullable = true)\n",
            " |-- B0031: string (nullable = true)\n",
            " |-- B0032: string (nullable = true)\n",
            " |-- B0033: string (nullable = true)\n",
            " |-- B0034: string (nullable = true)\n",
            " |-- B0035: string (nullable = true)\n",
            " |-- B0036: string (nullable = true)\n",
            " |-- B0037: string (nullable = true)\n",
            " |-- B0041: string (nullable = true)\n",
            " |-- B0042: string (nullable = true)\n",
            " |-- B0043: string (nullable = true)\n",
            " |-- B0044: string (nullable = true)\n",
            " |-- B0045: string (nullable = true)\n",
            " |-- B0046: string (nullable = true)\n",
            " |-- B005: string (nullable = true)\n",
            " |-- B006: string (nullable = true)\n",
            " |-- B007: string (nullable = true)\n",
            " |-- B008: string (nullable = true)\n",
            " |-- B009A: string (nullable = true)\n",
            " |-- B009B: string (nullable = true)\n",
            " |-- B009C: string (nullable = true)\n",
            " |-- B009D: string (nullable = true)\n",
            " |-- B009E: string (nullable = true)\n",
            " |-- B009F: string (nullable = true)\n",
            " |-- B0101: string (nullable = true)\n",
            " |-- B0102: string (nullable = true)\n",
            " |-- B0103: string (nullable = true)\n",
            " |-- B0104: string (nullable = true)\n",
            " |-- B0105: string (nullable = true)\n",
            " |-- B0106: string (nullable = true)\n",
            " |-- B011: string (nullable = true)\n",
            " |-- C001: string (nullable = true)\n",
            " |-- C002: string (nullable = true)\n",
            " |-- C003: string (nullable = true)\n",
            " |-- C004: string (nullable = true)\n",
            " |-- C005: string (nullable = true)\n",
            " |-- C0051: string (nullable = true)\n",
            " |-- C0052: string (nullable = true)\n",
            " |-- C0053: string (nullable = true)\n",
            " |-- C006: string (nullable = true)\n",
            " |-- C007: string (nullable = true)\n",
            " |-- C007A: string (nullable = true)\n",
            " |-- C007B: string (nullable = true)\n",
            " |-- C007C: string (nullable = true)\n",
            " |-- C007D: string (nullable = true)\n",
            " |-- C007E: string (nullable = true)\n",
            " |-- C007E1: string (nullable = true)\n",
            " |-- C007E2: string (nullable = true)\n",
            " |-- C007F: string (nullable = true)\n",
            " |-- C008: string (nullable = true)\n",
            " |-- C009: string (nullable = true)\n",
            " |-- C009A: string (nullable = true)\n",
            " |-- C010: string (nullable = true)\n",
            " |-- C0101: string (nullable = true)\n",
            " |-- C01011: string (nullable = true)\n",
            " |-- C01012: string (nullable = true)\n",
            " |-- C0102: string (nullable = true)\n",
            " |-- C01021: string (nullable = true)\n",
            " |-- C01022: string (nullable = true)\n",
            " |-- C0103: string (nullable = true)\n",
            " |-- C0104: string (nullable = true)\n",
            " |-- C011A: string (nullable = true)\n",
            " |-- C011A1: string (nullable = true)\n",
            " |-- C011A11: string (nullable = true)\n",
            " |-- C011A12: string (nullable = true)\n",
            " |-- C011A2: string (nullable = true)\n",
            " |-- C011A21: string (nullable = true)\n",
            " |-- C011A22: string (nullable = true)\n",
            " |-- C012: string (nullable = true)\n",
            " |-- C013: string (nullable = true)\n",
            " |-- C014: string (nullable = true)\n",
            " |-- C015: string (nullable = true)\n",
            " |-- C016: string (nullable = true)\n",
            " |-- C017A: string (nullable = true)\n",
            " |-- D0011: string (nullable = true)\n",
            " |-- D0013: string (nullable = true)\n",
            " |-- D0021: string (nullable = true)\n",
            " |-- D0023: string (nullable = true)\n",
            " |-- D0031: string (nullable = true)\n",
            " |-- D0033: string (nullable = true)\n",
            " |-- D0041: string (nullable = true)\n",
            " |-- D0043: string (nullable = true)\n",
            " |-- D0051: string (nullable = true)\n",
            " |-- D0053: string (nullable = true)\n",
            " |-- D0061: string (nullable = true)\n",
            " |-- D0063: string (nullable = true)\n",
            " |-- D0071: string (nullable = true)\n",
            " |-- D0073: string (nullable = true)\n",
            " |-- E001: string (nullable = true)\n",
            " |-- E0021: string (nullable = true)\n",
            " |-- E0022: string (nullable = true)\n",
            " |-- E0023: string (nullable = true)\n",
            " |-- E0024: string (nullable = true)\n",
            " |-- F001: string (nullable = true)\n",
            " |-- F0021: string (nullable = true)\n",
            " |-- F0022: string (nullable = true)\n",
            " |-- F002A1: string (nullable = true)\n",
            " |-- F002A2: string (nullable = true)\n",
            " |-- F002A3: string (nullable = true)\n",
            " |-- F002A4: string (nullable = true)\n",
            " |-- F002A5: string (nullable = true)\n",
            " |-- F0061: string (nullable = true)\n",
            " |-- F006: string (nullable = true)\n",
            "\n"
          ]
        }
      ],
      "source": [
        "df.printSchema()"
      ]
    },
    {
      "cell_type": "code",
      "execution_count": null,
      "metadata": {
        "colab": {
          "background_save": true
        },
        "id": "P6AADuu7LU1F",
        "outputId": "b0aa336e-f898-448f-c367-05f6d7acd89d"
      },
      "outputs": [
        {
          "data": {
            "text/plain": [
              "pyspark.sql.dataframe.DataFrame"
            ]
          },
          "execution_count": 64,
          "metadata": {},
          "output_type": "execute_result"
        }
      ],
      "source": [
        "type(df)"
      ]
    },
    {
      "cell_type": "markdown",
      "metadata": {
        "id": "Fq8qJYeBLj5g"
      },
      "source": [
        "Selecting specific columns from data dictionary"
      ]
    },
    {
      "cell_type": "code",
      "execution_count": null,
      "metadata": {
        "colab": {
          "background_save": true
        },
        "id": "L4UgxQNuEXiG"
      },
      "outputs": [],
      "source": [
        "df = df.select(['UF','V1022','A002','A003','B0011','B0012','B0013','B0015','B0018',\n",
        "                'B0019','B00111','B002','B005','B007','C001','C007D','C007E','C01011','C013','D0051'\n",
        "           ])"
      ]
    },
    {
      "cell_type": "code",
      "execution_count": null,
      "metadata": {
        "colab": {
          "background_save": true
        },
        "id": "SLP_RbuWFaT7",
        "outputId": "c03ece79-bd47-4465-ce92-bf0ac10a7342"
      },
      "outputs": [
        {
          "name": "stdout",
          "output_type": "stream",
          "text": [
            "+---+-----+----+----+-----+-----+-----+-----+-----+-----+------+----+----+----+----+-----+-----+------+----+-----+\n",
            "| UF|V1022|A002|A003|B0011|B0012|B0013|B0015|B0018|B0019|B00111|B002|B005|B007|C001|C007D|C007E|C01011|C013|D0051|\n",
            "+---+-----+----+----+-----+-----+-----+-----+-----+-----+------+----+----+----+----+-----+-----+------+----+-----+\n",
            "| 11|    1| 036|   1|    2|    2|    2|    2|    2|    2|     2|NULL|NULL|   1|   1|   06| NULL|    04|NULL|    1|\n",
            "| 11|    1| 030|   2|    2|    2|    2|    2|    2|    2|     2|NULL|NULL|   2|   1|   20| NULL|    04|NULL|    1|\n",
            "| 11|    1| 013|   1|    2|    2|    2|    2|    2|    2|     2|NULL|NULL|   1|NULL| NULL| NULL|  NULL|NULL|    1|\n",
            "| 11|    1| 011|   1|    2|    2|    2|    2|    2|    2|     2|NULL|NULL|   1|NULL| NULL| NULL|  NULL|NULL|    1|\n",
            "| 11|    1| 057|   2|    2|    2|    2|    2|    2|    2|     2|NULL|NULL|   2|   2| NULL| NULL|  NULL|NULL|    2|\n",
            "| 11|    1| 058|   2|    2|    2|    2|    2|    2|    2|     2|NULL|NULL|   2|   1|   25| NULL|    00|NULL|    2|\n",
            "| 11|    1| 047|   1|    2|    2|    2|    2|    2|    2|     2|NULL|NULL|   2|   1|   05| NULL|    04|NULL|    1|\n",
            "| 11|    1| 018|   2|    2|    2|    2|    2|    2|    2|     2|NULL|NULL|   2|   2| NULL| NULL|  NULL|NULL|    1|\n",
            "| 11|    1| 011|   1|    2|    2|    2|    2|    2|    2|     2|NULL|NULL|   2|NULL| NULL| NULL|  NULL|NULL|    1|\n",
            "| 11|    1| 009|   2|    2|    2|    2|    2|    2|    2|     2|NULL|NULL|   2|NULL| NULL| NULL|  NULL|NULL|    1|\n",
            "| 11|    1| 010|   1|    2|    2|    2|    2|    2|    2|     2|NULL|NULL|   2|NULL| NULL| NULL|  NULL|NULL|    1|\n",
            "| 11|    1| 026|   1|    2|    2|    2|    2|    2|    2|     2|NULL|NULL|   2|   1|   01| NULL|    04|NULL|    1|\n",
            "| 11|    1| 014|   1|    2|    2|    2|    2|    2|    2|     2|NULL|NULL|   2|   2| NULL| NULL|  NULL|NULL|    1|\n",
            "| 11|    1| 015|   2|    2|    2|    2|    2|    2|    2|     2|NULL|NULL|   2|   2| NULL| NULL|  NULL|NULL|    1|\n",
            "| 11|    1| 033|   2|    2|    2|    2|    2|    2|    2|     2|NULL|NULL|   2|   2| NULL| NULL|  NULL|NULL|    1|\n",
            "| 11|    1| 062|   1|    2|    2|    2|    2|    2|    2|     2|NULL|NULL|   2|   1|   07| NULL|    04|NULL|    1|\n",
            "| 11|    1| 062|   2|    2|    2|    2|    2|    2|    2|     2|NULL|NULL|   2|   2| NULL| NULL|  NULL|NULL|    1|\n",
            "| 11|    1| 056|   2|    2|    2|    2|    2|    2|    2|     2|NULL|NULL|   2|   2| NULL| NULL|  NULL|NULL|    1|\n",
            "| 11|    1| 053|   1|    2|    2|    2|    2|    2|    2|     2|NULL|NULL|   2|   1|   05| NULL|    04|NULL|    1|\n",
            "| 11|    1| 017|   2|    2|    2|    2|    2|    2|    2|     2|NULL|NULL|   2|   2| NULL| NULL|  NULL|NULL|    1|\n",
            "+---+-----+----+----+-----+-----+-----+-----+-----+-----+------+----+----+----+----+-----+-----+------+----+-----+\n",
            "only showing top 20 rows\n",
            "\n"
          ]
        }
      ],
      "source": [
        "df.show()"
      ]
    },
    {
      "cell_type": "code",
      "execution_count": null,
      "metadata": {
        "colab": {
          "background_save": true
        },
        "id": "lm0X-SjZCwxC",
        "outputId": "8e351504-927a-4386-dd5e-bc8ab0b6a59e"
      },
      "outputs": [
        {
          "name": "stderr",
          "output_type": "stream",
          "text": [
            "Downloading: 100%|██████████| 554/554 [00:00<00:00, 2578.19rows/s]\n"
          ]
        }
      ],
      "source": [
        "# importing basedosdados dictionary for the table\n",
        "df_dict = spark.createDataFrame(\n",
        "    bd.read_table(dataset_id='br_ibge_pnad_covid',\n",
        "    table_id='dicionario',\n",
        "    billing_project_id=\"basedosdados-1\").fillna(0)\n",
        ")"
      ]
    },
    {
      "cell_type": "code",
      "execution_count": null,
      "metadata": {
        "colab": {
          "background_save": true
        },
        "id": "nz4Z08aeEG21"
      },
      "outputs": [],
      "source": [
        "df_dict = df_dict.withColumn('chave',col('chave').cast('int')). \\\n",
        "                            fillna(0)"
      ]
    },
    {
      "cell_type": "code",
      "execution_count": null,
      "metadata": {
        "colab": {
          "background_save": true
        },
        "id": "ux89hEukPHrP",
        "outputId": "a5dca759-fc4b-48c2-a487-09516bfa302f"
      },
      "outputs": [
        {
          "name": "stdout",
          "output_type": "stream",
          "text": [
            "+----------+-----------+-----+------------------+--------------------+\n",
            "| id_tabela|nome_coluna|chave|cobertura_temporal|               valor|\n",
            "+----------+-----------+-----+------------------+--------------------+\n",
            "|microdados|    capital|   11| 2020-05(1)2020-11|Município de Port...|\n",
            "|microdados|    capital|   12| 2020-05(1)2020-11|Município de Rio ...|\n",
            "|microdados|    capital|   13| 2020-05(1)2020-11|Município de Mana...|\n",
            "|microdados|    capital|   14| 2020-05(1)2020-11|Município de Boa ...|\n",
            "|microdados|    capital|   15| 2020-05(1)2020-11|Município de Belé...|\n",
            "|microdados|    capital|   16| 2020-05(1)2020-11|Município de Maca...|\n",
            "|microdados|    capital|   17| 2020-05(1)2020-11|Município de Palm...|\n",
            "|microdados|    capital|   21| 2020-05(1)2020-11|Município de São ...|\n",
            "|microdados|    capital|   22| 2020-05(1)2020-11|Município de Tere...|\n",
            "|microdados|    capital|   23| 2020-05(1)2020-11|Município de Fort...|\n",
            "|microdados|    capital|   24| 2020-05(1)2020-11|Município de Nata...|\n",
            "|microdados|    capital|   25| 2020-05(1)2020-11|Município de João...|\n",
            "|microdados|    capital|   26| 2020-05(1)2020-11|Município de Reci...|\n",
            "|microdados|    capital|   27| 2020-05(1)2020-11|Município de Mace...|\n",
            "|microdados|    capital|   28| 2020-05(1)2020-11|Município de Arac...|\n",
            "|microdados|    capital|   29| 2020-05(1)2020-11|Município de Salv...|\n",
            "|microdados|    capital|   31| 2020-05(1)2020-11|Município de Belo...|\n",
            "|microdados|    capital|   32| 2020-05(1)2020-11|Município de Vitó...|\n",
            "|microdados|    capital|   33| 2020-05(1)2020-11|Município de Rio ...|\n",
            "|microdados|    capital|   35| 2020-05(1)2020-11|Município de São ...|\n",
            "+----------+-----------+-----+------------------+--------------------+\n",
            "only showing top 20 rows\n",
            "\n"
          ]
        }
      ],
      "source": [
        "df_dict.show()"
      ]
    },
    {
      "cell_type": "code",
      "execution_count": null,
      "metadata": {
        "colab": {
          "background_save": true
        },
        "id": "qfscHPe9E7oT"
      },
      "outputs": [],
      "source": [
        "df_dict = df_dict.withColumn(\"chave_coluna\", concat(col(\"nome_coluna\"), col(\"chave\")))"
      ]
    },
    {
      "cell_type": "code",
      "execution_count": null,
      "metadata": {
        "colab": {
          "background_save": true
        },
        "id": "kCeikQXZPN3e",
        "outputId": "b541f6bc-c01c-4c93-ca76-656d4f78ab14"
      },
      "outputs": [
        {
          "name": "stdout",
          "output_type": "stream",
          "text": [
            "+----------+-----------+-----+------------------+--------------------+------------+\n",
            "| id_tabela|nome_coluna|chave|cobertura_temporal|               valor|chave_coluna|\n",
            "+----------+-----------+-----+------------------+--------------------+------------+\n",
            "|microdados|    capital|   11| 2020-05(1)2020-11|Município de Port...|   capital11|\n",
            "|microdados|    capital|   12| 2020-05(1)2020-11|Município de Rio ...|   capital12|\n",
            "|microdados|    capital|   13| 2020-05(1)2020-11|Município de Mana...|   capital13|\n",
            "|microdados|    capital|   14| 2020-05(1)2020-11|Município de Boa ...|   capital14|\n",
            "|microdados|    capital|   15| 2020-05(1)2020-11|Município de Belé...|   capital15|\n",
            "|microdados|    capital|   16| 2020-05(1)2020-11|Município de Maca...|   capital16|\n",
            "|microdados|    capital|   17| 2020-05(1)2020-11|Município de Palm...|   capital17|\n",
            "|microdados|    capital|   21| 2020-05(1)2020-11|Município de São ...|   capital21|\n",
            "|microdados|    capital|   22| 2020-05(1)2020-11|Município de Tere...|   capital22|\n",
            "|microdados|    capital|   23| 2020-05(1)2020-11|Município de Fort...|   capital23|\n",
            "|microdados|    capital|   24| 2020-05(1)2020-11|Município de Nata...|   capital24|\n",
            "|microdados|    capital|   25| 2020-05(1)2020-11|Município de João...|   capital25|\n",
            "|microdados|    capital|   26| 2020-05(1)2020-11|Município de Reci...|   capital26|\n",
            "|microdados|    capital|   27| 2020-05(1)2020-11|Município de Mace...|   capital27|\n",
            "|microdados|    capital|   28| 2020-05(1)2020-11|Município de Arac...|   capital28|\n",
            "|microdados|    capital|   29| 2020-05(1)2020-11|Município de Salv...|   capital29|\n",
            "|microdados|    capital|   31| 2020-05(1)2020-11|Município de Belo...|   capital31|\n",
            "|microdados|    capital|   32| 2020-05(1)2020-11|Município de Vitó...|   capital32|\n",
            "|microdados|    capital|   33| 2020-05(1)2020-11|Município de Rio ...|   capital33|\n",
            "|microdados|    capital|   35| 2020-05(1)2020-11|Município de São ...|   capital35|\n",
            "+----------+-----------+-----+------------------+--------------------+------------+\n",
            "only showing top 20 rows\n",
            "\n"
          ]
        }
      ],
      "source": [
        "df_dict.show()"
      ]
    },
    {
      "cell_type": "code",
      "execution_count": null,
      "metadata": {
        "colab": {
          "background_save": true
        },
        "id": "HIIuJToWDDer"
      },
      "outputs": [],
      "source": [
        "# for column_name in df.columns:\n",
        "#     df = df.withColumnRenamed(column_name, column_name.lower())"
      ]
    },
    {
      "cell_type": "code",
      "execution_count": null,
      "metadata": {
        "colab": {
          "background_save": true
        },
        "id": "j8oyTGsOMy7z"
      },
      "outputs": [],
      "source": [
        "from pyspark.sql.functions import col\n",
        "for column_name in df.columns:\n",
        "  df = df.withColumn(column_name, col(column_name).cast('int'))"
      ]
    },
    {
      "cell_type": "code",
      "execution_count": null,
      "metadata": {
        "colab": {
          "background_save": true
        },
        "id": "SIn5t06yc9Z_",
        "outputId": "99167ac0-587e-40c4-bf6a-326b5524a962"
      },
      "outputs": [
        {
          "name": "stdout",
          "output_type": "stream",
          "text": [
            "+---+-----+----+----+-----+-----+-----+-----+-----+-----+------+----+----+----+----+-----+-----+------+----+-----+\n",
            "| UF|V1022|A002|A003|B0011|B0012|B0013|B0015|B0018|B0019|B00111|B002|B005|B007|C001|C007D|C007E|C01011|C013|D0051|\n",
            "+---+-----+----+----+-----+-----+-----+-----+-----+-----+------+----+----+----+----+-----+-----+------+----+-----+\n",
            "| 11|    1|  36|   1|    2|    2|    2|    2|    2|    2|     2|NULL|NULL|   1|   1|    6| NULL|     4|NULL|    1|\n",
            "| 11|    1|  30|   2|    2|    2|    2|    2|    2|    2|     2|NULL|NULL|   2|   1|   20| NULL|     4|NULL|    1|\n",
            "| 11|    1|  13|   1|    2|    2|    2|    2|    2|    2|     2|NULL|NULL|   1|NULL| NULL| NULL|  NULL|NULL|    1|\n",
            "| 11|    1|  11|   1|    2|    2|    2|    2|    2|    2|     2|NULL|NULL|   1|NULL| NULL| NULL|  NULL|NULL|    1|\n",
            "| 11|    1|  57|   2|    2|    2|    2|    2|    2|    2|     2|NULL|NULL|   2|   2| NULL| NULL|  NULL|NULL|    2|\n",
            "| 11|    1|  58|   2|    2|    2|    2|    2|    2|    2|     2|NULL|NULL|   2|   1|   25| NULL|     0|NULL|    2|\n",
            "| 11|    1|  47|   1|    2|    2|    2|    2|    2|    2|     2|NULL|NULL|   2|   1|    5| NULL|     4|NULL|    1|\n",
            "| 11|    1|  18|   2|    2|    2|    2|    2|    2|    2|     2|NULL|NULL|   2|   2| NULL| NULL|  NULL|NULL|    1|\n",
            "| 11|    1|  11|   1|    2|    2|    2|    2|    2|    2|     2|NULL|NULL|   2|NULL| NULL| NULL|  NULL|NULL|    1|\n",
            "| 11|    1|   9|   2|    2|    2|    2|    2|    2|    2|     2|NULL|NULL|   2|NULL| NULL| NULL|  NULL|NULL|    1|\n",
            "| 11|    1|  10|   1|    2|    2|    2|    2|    2|    2|     2|NULL|NULL|   2|NULL| NULL| NULL|  NULL|NULL|    1|\n",
            "| 11|    1|  26|   1|    2|    2|    2|    2|    2|    2|     2|NULL|NULL|   2|   1|    1| NULL|     4|NULL|    1|\n",
            "| 11|    1|  14|   1|    2|    2|    2|    2|    2|    2|     2|NULL|NULL|   2|   2| NULL| NULL|  NULL|NULL|    1|\n",
            "| 11|    1|  15|   2|    2|    2|    2|    2|    2|    2|     2|NULL|NULL|   2|   2| NULL| NULL|  NULL|NULL|    1|\n",
            "| 11|    1|  33|   2|    2|    2|    2|    2|    2|    2|     2|NULL|NULL|   2|   2| NULL| NULL|  NULL|NULL|    1|\n",
            "| 11|    1|  62|   1|    2|    2|    2|    2|    2|    2|     2|NULL|NULL|   2|   1|    7| NULL|     4|NULL|    1|\n",
            "| 11|    1|  62|   2|    2|    2|    2|    2|    2|    2|     2|NULL|NULL|   2|   2| NULL| NULL|  NULL|NULL|    1|\n",
            "| 11|    1|  56|   2|    2|    2|    2|    2|    2|    2|     2|NULL|NULL|   2|   2| NULL| NULL|  NULL|NULL|    1|\n",
            "| 11|    1|  53|   1|    2|    2|    2|    2|    2|    2|     2|NULL|NULL|   2|   1|    5| NULL|     4|NULL|    1|\n",
            "| 11|    1|  17|   2|    2|    2|    2|    2|    2|    2|     2|NULL|NULL|   2|   2| NULL| NULL|  NULL|NULL|    1|\n",
            "+---+-----+----+----+-----+-----+-----+-----+-----+-----+------+----+----+----+----+-----+-----+------+----+-----+\n",
            "only showing top 20 rows\n",
            "\n"
          ]
        }
      ],
      "source": [
        "df.show()"
      ]
    },
    {
      "cell_type": "code",
      "execution_count": null,
      "metadata": {
        "colab": {
          "background_save": true
        },
        "id": "4oIwIqzUbn_8",
        "outputId": "81396820-7f8f-4f4e-87f4-d6b9af372139"
      },
      "outputs": [
        {
          "name": "stdout",
          "output_type": "stream",
          "text": [
            "+---+-----+----+----+-----+-----+-----+-----+-----+-----+------+----+----+----+----+-----+-----+------+----+-----+\n",
            "| UF|V1022|A002|A003|B0011|B0012|B0013|B0015|B0018|B0019|B00111|B002|B005|B007|C001|C007D|C007E|C01011|C013|D0051|\n",
            "+---+-----+----+----+-----+-----+-----+-----+-----+-----+------+----+----+----+----+-----+-----+------+----+-----+\n",
            "| 11|    1|  36|   1|    2|    2|    2|    2|    2|    2|     2|   0|   0|   1|   1|    6|    0|     4|   0|    1|\n",
            "| 11|    1|  30|   2|    2|    2|    2|    2|    2|    2|     2|   0|   0|   2|   1|   20|    0|     4|   0|    1|\n",
            "| 11|    1|  13|   1|    2|    2|    2|    2|    2|    2|     2|   0|   0|   1|   0|    0|    0|     0|   0|    1|\n",
            "| 11|    1|  11|   1|    2|    2|    2|    2|    2|    2|     2|   0|   0|   1|   0|    0|    0|     0|   0|    1|\n",
            "| 11|    1|  57|   2|    2|    2|    2|    2|    2|    2|     2|   0|   0|   2|   2|    0|    0|     0|   0|    2|\n",
            "| 11|    1|  58|   2|    2|    2|    2|    2|    2|    2|     2|   0|   0|   2|   1|   25|    0|     0|   0|    2|\n",
            "| 11|    1|  47|   1|    2|    2|    2|    2|    2|    2|     2|   0|   0|   2|   1|    5|    0|     4|   0|    1|\n",
            "| 11|    1|  18|   2|    2|    2|    2|    2|    2|    2|     2|   0|   0|   2|   2|    0|    0|     0|   0|    1|\n",
            "| 11|    1|  11|   1|    2|    2|    2|    2|    2|    2|     2|   0|   0|   2|   0|    0|    0|     0|   0|    1|\n",
            "| 11|    1|   9|   2|    2|    2|    2|    2|    2|    2|     2|   0|   0|   2|   0|    0|    0|     0|   0|    1|\n",
            "| 11|    1|  10|   1|    2|    2|    2|    2|    2|    2|     2|   0|   0|   2|   0|    0|    0|     0|   0|    1|\n",
            "| 11|    1|  26|   1|    2|    2|    2|    2|    2|    2|     2|   0|   0|   2|   1|    1|    0|     4|   0|    1|\n",
            "| 11|    1|  14|   1|    2|    2|    2|    2|    2|    2|     2|   0|   0|   2|   2|    0|    0|     0|   0|    1|\n",
            "| 11|    1|  15|   2|    2|    2|    2|    2|    2|    2|     2|   0|   0|   2|   2|    0|    0|     0|   0|    1|\n",
            "| 11|    1|  33|   2|    2|    2|    2|    2|    2|    2|     2|   0|   0|   2|   2|    0|    0|     0|   0|    1|\n",
            "| 11|    1|  62|   1|    2|    2|    2|    2|    2|    2|     2|   0|   0|   2|   1|    7|    0|     4|   0|    1|\n",
            "| 11|    1|  62|   2|    2|    2|    2|    2|    2|    2|     2|   0|   0|   2|   2|    0|    0|     0|   0|    1|\n",
            "| 11|    1|  56|   2|    2|    2|    2|    2|    2|    2|     2|   0|   0|   2|   2|    0|    0|     0|   0|    1|\n",
            "| 11|    1|  53|   1|    2|    2|    2|    2|    2|    2|     2|   0|   0|   2|   1|    5|    0|     4|   0|    1|\n",
            "| 11|    1|  17|   2|    2|    2|    2|    2|    2|    2|     2|   0|   0|   2|   2|    0|    0|     0|   0|    1|\n",
            "+---+-----+----+----+-----+-----+-----+-----+-----+-----+------+----+----+----+----+-----+-----+------+----+-----+\n",
            "only showing top 20 rows\n",
            "\n"
          ]
        }
      ],
      "source": [
        "df = df.fillna(0)\n",
        "df.show()"
      ]
    },
    {
      "cell_type": "code",
      "execution_count": null,
      "metadata": {
        "colab": {
          "background_save": true
        },
        "id": "oDwF2zbXGHtT",
        "outputId": "5a8f0f24-8287-405a-c31d-1260a568e87b"
      },
      "outputs": [
        {
          "name": "stdout",
          "output_type": "stream",
          "text": [
            "root\n",
            " |-- UF: integer (nullable = true)\n",
            " |-- V1022: integer (nullable = true)\n",
            " |-- A002: integer (nullable = true)\n",
            " |-- A003: integer (nullable = true)\n",
            " |-- B0011: integer (nullable = true)\n",
            " |-- B0012: integer (nullable = true)\n",
            " |-- B0013: integer (nullable = true)\n",
            " |-- B0015: integer (nullable = true)\n",
            " |-- B0018: integer (nullable = true)\n",
            " |-- B0019: integer (nullable = true)\n",
            " |-- B00111: integer (nullable = true)\n",
            " |-- B002: integer (nullable = true)\n",
            " |-- B005: integer (nullable = true)\n",
            " |-- B007: integer (nullable = true)\n",
            " |-- C001: integer (nullable = true)\n",
            " |-- C007D: integer (nullable = true)\n",
            " |-- C007E: integer (nullable = true)\n",
            " |-- C01011: integer (nullable = true)\n",
            " |-- C013: integer (nullable = true)\n",
            " |-- D0051: integer (nullable = true)\n",
            "\n"
          ]
        }
      ],
      "source": [
        "df.printSchema()"
      ]
    },
    {
      "cell_type": "markdown",
      "metadata": {
        "id": "e-csHJRNNJRo"
      },
      "source": [
        "## Altering data and column names"
      ]
    },
    {
      "cell_type": "code",
      "execution_count": null,
      "metadata": {
        "colab": {
          "background_save": true
        },
        "id": "UptZbKHpNyyp"
      },
      "outputs": [],
      "source": [
        "new_column_name_dict = {\n",
        "    \"V1022\": \"housing_status\",\n",
        "    \"A002\": \"age\",\n",
        "    \"A003\": \"sex\",\n",
        "    \"B0011\": \"had_fever_last_week\",\n",
        "    \"B0012\": \"had_cough_last_week\",\n",
        "    \"B0013\": \"had_sore_throat_last_week\",\n",
        "    \"B0015\": \"had_headache_last_week\",\n",
        "    \"B0018\": \"had_runny_nose_last_week\",\n",
        "    \"B0019\": \"had_lethargy_last_week\",\n",
        "    \"B00111\": \"had_loss_of_smell_last_week\",\n",
        "    \"B002\": \"went_to_healthcare_facility\",\n",
        "    \"B005\": \"was_hospitalized\",\n",
        "    \"B007\": \"has_health_insurance\",\n",
        "    \"C001\": \"worked_last_week\",\n",
        "    \"C007D\": \"main_job_activity\",\n",
        "    \"C007E\": \"how_many_employees\",\n",
        "    \"C01011\": \"income_range\",\n",
        "    \"C013\": \"has_worked_remote\"\n",
        "}"
      ]
    },
    {
      "cell_type": "code",
      "execution_count": null,
      "metadata": {
        "colab": {
          "background_save": true
        },
        "id": "O8OBn5AxN4iw"
      },
      "outputs": [],
      "source": [
        "for old_col, new_col in new_column_name_dict.items():\n",
        "    df = df.withColumnRenamed(old_col, new_col)"
      ]
    },
    {
      "cell_type": "code",
      "execution_count": null,
      "metadata": {
        "colab": {
          "background_save": true
        },
        "id": "cEzt_aEmPqPA",
        "outputId": "7119efff-5cdb-41b9-cd07-47ad770e0228"
      },
      "outputs": [
        {
          "name": "stdout",
          "output_type": "stream",
          "text": [
            "+---+--------------+---+---+-------------------+-------------------+-------------------------+----------------------+------------------------+----------------------+---------------------------+---------------------------+----------------+--------------------+----------------+-----------------+------------------+------------+-----------------+-----+\n",
            "| UF|housing_status|age|sex|had_fever_last_week|had_cough_last_week|had_sore_throat_last_week|had_headache_last_week|had_runny_nose_last_week|had_lethargy_last_week|had_loss_of_smell_last_week|went_to_healthcare_facility|was_hospitalized|has_health_insurance|worked_last_week|main_job_activity|how_many_employees|income_range|has_worked_remote|D0051|\n",
            "+---+--------------+---+---+-------------------+-------------------+-------------------------+----------------------+------------------------+----------------------+---------------------------+---------------------------+----------------+--------------------+----------------+-----------------+------------------+------------+-----------------+-----+\n",
            "| 11|             1| 36|  1|                  2|                  2|                        2|                     2|                       2|                     2|                          2|                          0|               0|                   1|               1|                6|                 0|           4|                0|    1|\n",
            "| 11|             1| 30|  2|                  2|                  2|                        2|                     2|                       2|                     2|                          2|                          0|               0|                   2|               1|               20|                 0|           4|                0|    1|\n",
            "| 11|             1| 13|  1|                  2|                  2|                        2|                     2|                       2|                     2|                          2|                          0|               0|                   1|               0|                0|                 0|           0|                0|    1|\n",
            "| 11|             1| 11|  1|                  2|                  2|                        2|                     2|                       2|                     2|                          2|                          0|               0|                   1|               0|                0|                 0|           0|                0|    1|\n",
            "| 11|             1| 57|  2|                  2|                  2|                        2|                     2|                       2|                     2|                          2|                          0|               0|                   2|               2|                0|                 0|           0|                0|    2|\n",
            "| 11|             1| 58|  2|                  2|                  2|                        2|                     2|                       2|                     2|                          2|                          0|               0|                   2|               1|               25|                 0|           0|                0|    2|\n",
            "| 11|             1| 47|  1|                  2|                  2|                        2|                     2|                       2|                     2|                          2|                          0|               0|                   2|               1|                5|                 0|           4|                0|    1|\n",
            "| 11|             1| 18|  2|                  2|                  2|                        2|                     2|                       2|                     2|                          2|                          0|               0|                   2|               2|                0|                 0|           0|                0|    1|\n",
            "| 11|             1| 11|  1|                  2|                  2|                        2|                     2|                       2|                     2|                          2|                          0|               0|                   2|               0|                0|                 0|           0|                0|    1|\n",
            "| 11|             1|  9|  2|                  2|                  2|                        2|                     2|                       2|                     2|                          2|                          0|               0|                   2|               0|                0|                 0|           0|                0|    1|\n",
            "| 11|             1| 10|  1|                  2|                  2|                        2|                     2|                       2|                     2|                          2|                          0|               0|                   2|               0|                0|                 0|           0|                0|    1|\n",
            "| 11|             1| 26|  1|                  2|                  2|                        2|                     2|                       2|                     2|                          2|                          0|               0|                   2|               1|                1|                 0|           4|                0|    1|\n",
            "| 11|             1| 14|  1|                  2|                  2|                        2|                     2|                       2|                     2|                          2|                          0|               0|                   2|               2|                0|                 0|           0|                0|    1|\n",
            "| 11|             1| 15|  2|                  2|                  2|                        2|                     2|                       2|                     2|                          2|                          0|               0|                   2|               2|                0|                 0|           0|                0|    1|\n",
            "| 11|             1| 33|  2|                  2|                  2|                        2|                     2|                       2|                     2|                          2|                          0|               0|                   2|               2|                0|                 0|           0|                0|    1|\n",
            "| 11|             1| 62|  1|                  2|                  2|                        2|                     2|                       2|                     2|                          2|                          0|               0|                   2|               1|                7|                 0|           4|                0|    1|\n",
            "| 11|             1| 62|  2|                  2|                  2|                        2|                     2|                       2|                     2|                          2|                          0|               0|                   2|               2|                0|                 0|           0|                0|    1|\n",
            "| 11|             1| 56|  2|                  2|                  2|                        2|                     2|                       2|                     2|                          2|                          0|               0|                   2|               2|                0|                 0|           0|                0|    1|\n",
            "| 11|             1| 53|  1|                  2|                  2|                        2|                     2|                       2|                     2|                          2|                          0|               0|                   2|               1|                5|                 0|           4|                0|    1|\n",
            "| 11|             1| 17|  2|                  2|                  2|                        2|                     2|                       2|                     2|                          2|                          0|               0|                   2|               2|                0|                 0|           0|                0|    1|\n",
            "+---+--------------+---+---+-------------------+-------------------+-------------------------+----------------------+------------------------+----------------------+---------------------------+---------------------------+----------------+--------------------+----------------+-----------------+------------------+------------+-----------------+-----+\n",
            "only showing top 20 rows\n",
            "\n"
          ]
        }
      ],
      "source": [
        "df.show()"
      ]
    },
    {
      "cell_type": "code",
      "execution_count": null,
      "metadata": {
        "colab": {
          "background_save": true
        },
        "id": "jqx3oVwic_bO"
      },
      "outputs": [],
      "source": [
        "symptoms_dict = {\n",
        "    1: \"Yes\",\n",
        "    2: \"No\",\n",
        "    3: \"Don't know\",\n",
        "    9: \"Ignored\",\n",
        "    0: \"Not applicable\"\n",
        "}"
      ]
    },
    {
      "cell_type": "code",
      "execution_count": null,
      "metadata": {
        "colab": {
          "background_save": true
        },
        "id": "gFZFmJeTjEpi"
      },
      "outputs": [],
      "source": [
        "def translate_and_cast(value):\n",
        "    return symptoms_dict.get(value, None)"
      ]
    },
    {
      "cell_type": "code",
      "execution_count": null,
      "metadata": {
        "colab": {
          "background_save": true
        },
        "id": "hiaFSn-6dSsp"
      },
      "outputs": [],
      "source": [
        "# Columns to translate\n",
        "symptoms_cols = ['had_fever_last_week','had_cough_last_week',\n",
        "                 'had_sore_throat_last_week','had_headache_last_week','had_runny_nose_last_week',\n",
        "                 'had_lethargy_last_week','had_loss_of_smell_last_week','went_to_healthcare_facility','was_hospitalized','has_health_insurance',\n",
        "                 'worked_last_week','has_worked_remote']\n",
        "\n",
        "work_cols = ['main_job_activity','how_many_employees','income_range']"
      ]
    },
    {
      "cell_type": "code",
      "execution_count": null,
      "metadata": {
        "id": "AabGgFUxjSqv"
      },
      "outputs": [],
      "source": [
        "from pyspark.sql.functions import col, udf\n",
        "from pyspark.sql.types import StringType"
      ]
    },
    {
      "cell_type": "code",
      "execution_count": null,
      "metadata": {
        "colab": {
          "background_save": true
        },
        "id": "X5UW_vnfjMox"
      },
      "outputs": [],
      "source": [
        "translate_udf = udf(translate_and_cast, StringType())\n",
        "\n",
        "# Apply the UDF to the selected columns\n",
        "for column in symptoms_cols:\n",
        "    df = df.withColumn(column, translate_udf(col(column)))"
      ]
    },
    {
      "cell_type": "code",
      "execution_count": null,
      "metadata": {
        "colab": {
          "background_save": true
        },
        "id": "bwkh4eInemqj",
        "outputId": "603c130d-3eb9-4738-f5c6-f0aacfc8ffbb"
      },
      "outputs": [
        {
          "name": "stdout",
          "output_type": "stream",
          "text": [
            "+---+--------------+---+---+-------------------+-------------------+-------------------------+----------------------+------------------------+----------------------+---------------------------+---------------------------+----------------+--------------------+----------------+-----------------+------------------+------------+-----------------+-----+\n",
            "| UF|housing_status|age|sex|had_fever_last_week|had_cough_last_week|had_sore_throat_last_week|had_headache_last_week|had_runny_nose_last_week|had_lethargy_last_week|had_loss_of_smell_last_week|went_to_healthcare_facility|was_hospitalized|has_health_insurance|worked_last_week|main_job_activity|how_many_employees|income_range|has_worked_remote|D0051|\n",
            "+---+--------------+---+---+-------------------+-------------------+-------------------------+----------------------+------------------------+----------------------+---------------------------+---------------------------+----------------+--------------------+----------------+-----------------+------------------+------------+-----------------+-----+\n",
            "| 11|             1| 36|  1|                 No|                 No|                       No|                    No|                      No|                    No|                         No|             Not applicable|  Not applicable|                 Yes|             Yes|                6|                 0|           4|   Not applicable|    1|\n",
            "| 11|             1| 30|  2|                 No|                 No|                       No|                    No|                      No|                    No|                         No|             Not applicable|  Not applicable|                  No|             Yes|               20|                 0|           4|   Not applicable|    1|\n",
            "| 11|             1| 13|  1|                 No|                 No|                       No|                    No|                      No|                    No|                         No|             Not applicable|  Not applicable|                 Yes|  Not applicable|                0|                 0|           0|   Not applicable|    1|\n",
            "| 11|             1| 11|  1|                 No|                 No|                       No|                    No|                      No|                    No|                         No|             Not applicable|  Not applicable|                 Yes|  Not applicable|                0|                 0|           0|   Not applicable|    1|\n",
            "| 11|             1| 57|  2|                 No|                 No|                       No|                    No|                      No|                    No|                         No|             Not applicable|  Not applicable|                  No|              No|                0|                 0|           0|   Not applicable|    2|\n",
            "| 11|             1| 58|  2|                 No|                 No|                       No|                    No|                      No|                    No|                         No|             Not applicable|  Not applicable|                  No|             Yes|               25|                 0|           0|   Not applicable|    2|\n",
            "| 11|             1| 47|  1|                 No|                 No|                       No|                    No|                      No|                    No|                         No|             Not applicable|  Not applicable|                  No|             Yes|                5|                 0|           4|   Not applicable|    1|\n",
            "| 11|             1| 18|  2|                 No|                 No|                       No|                    No|                      No|                    No|                         No|             Not applicable|  Not applicable|                  No|              No|                0|                 0|           0|   Not applicable|    1|\n",
            "| 11|             1| 11|  1|                 No|                 No|                       No|                    No|                      No|                    No|                         No|             Not applicable|  Not applicable|                  No|  Not applicable|                0|                 0|           0|   Not applicable|    1|\n",
            "| 11|             1|  9|  2|                 No|                 No|                       No|                    No|                      No|                    No|                         No|             Not applicable|  Not applicable|                  No|  Not applicable|                0|                 0|           0|   Not applicable|    1|\n",
            "| 11|             1| 10|  1|                 No|                 No|                       No|                    No|                      No|                    No|                         No|             Not applicable|  Not applicable|                  No|  Not applicable|                0|                 0|           0|   Not applicable|    1|\n",
            "| 11|             1| 26|  1|                 No|                 No|                       No|                    No|                      No|                    No|                         No|             Not applicable|  Not applicable|                  No|             Yes|                1|                 0|           4|   Not applicable|    1|\n",
            "| 11|             1| 14|  1|                 No|                 No|                       No|                    No|                      No|                    No|                         No|             Not applicable|  Not applicable|                  No|              No|                0|                 0|           0|   Not applicable|    1|\n",
            "| 11|             1| 15|  2|                 No|                 No|                       No|                    No|                      No|                    No|                         No|             Not applicable|  Not applicable|                  No|              No|                0|                 0|           0|   Not applicable|    1|\n",
            "| 11|             1| 33|  2|                 No|                 No|                       No|                    No|                      No|                    No|                         No|             Not applicable|  Not applicable|                  No|              No|                0|                 0|           0|   Not applicable|    1|\n",
            "| 11|             1| 62|  1|                 No|                 No|                       No|                    No|                      No|                    No|                         No|             Not applicable|  Not applicable|                  No|             Yes|                7|                 0|           4|   Not applicable|    1|\n",
            "| 11|             1| 62|  2|                 No|                 No|                       No|                    No|                      No|                    No|                         No|             Not applicable|  Not applicable|                  No|              No|                0|                 0|           0|   Not applicable|    1|\n",
            "| 11|             1| 56|  2|                 No|                 No|                       No|                    No|                      No|                    No|                         No|             Not applicable|  Not applicable|                  No|              No|                0|                 0|           0|   Not applicable|    1|\n",
            "| 11|             1| 53|  1|                 No|                 No|                       No|                    No|                      No|                    No|                         No|             Not applicable|  Not applicable|                  No|             Yes|                5|                 0|           4|   Not applicable|    1|\n",
            "| 11|             1| 17|  2|                 No|                 No|                       No|                    No|                      No|                    No|                         No|             Not applicable|  Not applicable|                  No|              No|                0|                 0|           0|   Not applicable|    1|\n",
            "+---+--------------+---+---+-------------------+-------------------+-------------------------+----------------------+------------------------+----------------------+---------------------------+---------------------------+----------------+--------------------+----------------+-----------------+------------------+------------+-----------------+-----+\n",
            "only showing top 20 rows\n",
            "\n"
          ]
        }
      ],
      "source": [
        "df.show()"
      ]
    },
    {
      "cell_type": "code",
      "execution_count": null,
      "metadata": {
        "colab": {
          "background_save": true
        },
        "id": "Uy7T1udnNOjV"
      },
      "outputs": [],
      "source": [
        "brazil_states = {\n",
        "    11: \"Rondônia\",\n",
        "    12: \"Acre\",\n",
        "    13: \"Amazonas\",\n",
        "    14: \"Roraima\",\n",
        "    15: \"Pará\",\n",
        "    16: \"Amapá\",\n",
        "    17: \"Tocantins\",\n",
        "    21: \"Maranhão\",\n",
        "    22: \"Piauí\",\n",
        "    23: \"Ceará\",\n",
        "    24: \"Rio Grande do Norte\",\n",
        "    25: \"Paraíba\",\n",
        "    26: \"Pernambuco\",\n",
        "    27: \"Alagoas\",\n",
        "    28: \"Sergipe\",\n",
        "    29: \"Bahia\",\n",
        "    31: \"Minas Gerais\",\n",
        "    32: \"Espírito Santo\",\n",
        "    33: \"Rio de Janeiro\",\n",
        "    35: \"São Paulo\",\n",
        "    41: \"Paraná\",\n",
        "    42: \"Santa Catarina\",\n",
        "    43: \"Rio Grande do Sul\",\n",
        "    50: \"Mato Grosso do Sul\",\n",
        "    51: \"Mato Grosso\",\n",
        "    52: \"Goiás\",\n",
        "    53: \"Distrito Federal\"\n",
        "}"
      ]
    },
    {
      "cell_type": "code",
      "execution_count": null,
      "metadata": {
        "colab": {
          "background_save": true
        },
        "id": "-Q6cZLcVnRMa",
        "outputId": "6fbd8084-1604-48ee-9534-f2844e8bd15b"
      },
      "outputs": [
        {
          "ename": "TypeError",
          "evalue": "ignored",
          "output_type": "error",
          "traceback": [
            "\u001b[0;31m---------------------------------------------------------------------------\u001b[0m",
            "\u001b[0;31mTypeError\u001b[0m                                 Traceback (most recent call last)",
            "\u001b[0;32m<ipython-input-86-b66759e27876>\u001b[0m in \u001b[0;36m<cell line: 1>\u001b[0;34m()\u001b[0m\n\u001b[0;32m----> 1\u001b[0;31m \u001b[0mdf\u001b[0m \u001b[0;34m=\u001b[0m \u001b[0mdf\u001b[0m\u001b[0;34m.\u001b[0m\u001b[0mwithColumn\u001b[0m\u001b[0;34m(\u001b[0m\u001b[0;34m'UF'\u001b[0m\u001b[0;34m,\u001b[0m\u001b[0;34m)\u001b[0m\u001b[0;34m\u001b[0m\u001b[0;34m\u001b[0m\u001b[0m\n\u001b[0m",
            "\u001b[0;31mTypeError\u001b[0m: DataFrame.withColumn() missing 1 required positional argument: 'col'"
          ]
        }
      ],
      "source": [
        "df = df.withColumn('UF',)"
      ]
    }
  ],
  "metadata": {
    "colab": {
      "provenance": [],
      "include_colab_link": true
    },
    "kernelspec": {
      "display_name": "Python 3",
      "name": "python3"
    },
    "language_info": {
      "name": "python"
    }
  },
  "nbformat": 4,
  "nbformat_minor": 0
}